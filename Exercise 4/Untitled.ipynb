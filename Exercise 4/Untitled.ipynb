{
 "cells": [
  {
   "cell_type": "markdown",
   "id": "3d8acb10",
   "metadata": {},
   "source": [
    "Same Padding:"
   ]
  },
  {
   "cell_type": "markdown",
   "id": "90302c2f",
   "metadata": {},
   "source": [
    "Output_height = Input_height/Strides"
   ]
  },
  {
   "cell_type": "markdown",
   "id": "050d5c2a",
   "metadata": {},
   "source": [
    "Output_width = Input_width/Strides"
   ]
  },
  {
   "cell_type": "markdown",
   "id": "b3242ca9",
   "metadata": {},
   "source": [
    "Valid Padding:"
   ]
  },
  {
   "cell_type": "markdown",
   "id": "ad1f377e",
   "metadata": {},
   "source": [
    "Output_height = (Input_height - kernel_height +1 ) / Strides"
   ]
  },
  {
   "cell_type": "markdown",
   "id": "4e3c84d1",
   "metadata": {},
   "source": [
    "Output_width = (Input_width - kernel_width +1 ) / Strides"
   ]
  },
  {
   "cell_type": "code",
   "execution_count": 1,
   "id": "1ba59e1a",
   "metadata": {},
   "outputs": [],
   "source": [
    "from tensorflow import keras"
   ]
  },
  {
   "cell_type": "code",
   "execution_count": 2,
   "id": "e4df5937",
   "metadata": {},
   "outputs": [],
   "source": [
    "inputs = keras.Input((28,28,4))"
   ]
  },
  {
   "cell_type": "code",
   "execution_count": 3,
   "id": "e3a297db",
   "metadata": {},
   "outputs": [],
   "source": [
    "outputs = keras.layers.Conv2D(32, kernel_size=3, strides=(1,1), padding='valid',\n",
    "                              use_bias=True)(inputs)"
   ]
  },
  {
   "cell_type": "code",
   "execution_count": 4,
   "id": "1b4dbd66",
   "metadata": {},
   "outputs": [],
   "source": [
    "model = keras.Model(inputs, outputs)"
   ]
  },
  {
   "cell_type": "code",
   "execution_count": 5,
   "id": "afc78835",
   "metadata": {},
   "outputs": [
    {
     "name": "stdout",
     "output_type": "stream",
     "text": [
      "Model: \"model\"\n",
      "_________________________________________________________________\n",
      "Layer (type)                 Output Shape              Param #   \n",
      "=================================================================\n",
      "input_1 (InputLayer)         [(None, 28, 28, 4)]       0         \n",
      "_________________________________________________________________\n",
      "conv2d (Conv2D)              (None, 26, 26, 32)        1184      \n",
      "=================================================================\n",
      "Total params: 1,184\n",
      "Trainable params: 1,184\n",
      "Non-trainable params: 0\n",
      "_________________________________________________________________\n"
     ]
    }
   ],
   "source": [
    "model.summary()"
   ]
  },
  {
   "cell_type": "markdown",
   "id": "1f0bddee",
   "metadata": {},
   "source": [
    "Parameters = (Input_channel * kernel_height * kernel_width * Bais) * kernel_numbers"
   ]
  },
  {
   "cell_type": "markdown",
   "id": "62902bee",
   "metadata": {},
   "source": [
    "1184 = (4*3*3*1)*32  if has Bias = 1, else Bias = 0"
   ]
  },
  {
   "cell_type": "code",
   "execution_count": null,
   "id": "f5479f67",
   "metadata": {},
   "outputs": [],
   "source": []
  }
 ],
 "metadata": {
  "kernelspec": {
   "display_name": "tf2",
   "language": "python",
   "name": "tf2"
  },
  "language_info": {
   "codemirror_mode": {
    "name": "ipython",
    "version": 3
   },
   "file_extension": ".py",
   "mimetype": "text/x-python",
   "name": "python",
   "nbconvert_exporter": "python",
   "pygments_lexer": "ipython3",
   "version": "3.6.8"
  }
 },
 "nbformat": 4,
 "nbformat_minor": 5
}
