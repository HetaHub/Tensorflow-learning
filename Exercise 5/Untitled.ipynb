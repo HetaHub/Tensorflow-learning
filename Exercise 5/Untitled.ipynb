{
 "cells": [
  {
   "cell_type": "code",
   "execution_count": 2,
   "id": "adfbc40c",
   "metadata": {},
   "outputs": [],
   "source": [
    "import numpy as np\n",
    "import tensorflow as tf\n",
    "import matplotlib.pyplot as plt\n",
    "from tensorflow import keras\n",
    "from tensorflow.keras import layers\n",
    "from tensorflow.keras import initializers"
   ]
  },
  {
   "cell_type": "code",
   "execution_count": 3,
   "id": "5fbfc06e",
   "metadata": {},
   "outputs": [],
   "source": [
    "inputs = keras.Input(shape=(100,))\n",
    "x1 = layers.Dense(100, 'sigmoid', False, initializers.RandomNormal(0, 1))(inputs)\n",
    "x2 = layers.Dense(100, 'sigmoid', False, initializers.RandomNormal(0, 1))(x1)\n",
    "x3 = layers.Dense(100, 'sigmoid', False, initializers.RandomNormal(0, 1))(x2)\n",
    "x4 = layers.Dense(100, 'sigmoid', False, initializers.RandomNormal(0, 1))(x3)\n",
    "x5 = layers.Dense(100, 'sigmoid', False, initializers.RandomNormal(0, 1))(x4)\n",
    "model_1 = keras.Model(inputs, [x1,x2,x3,x4,x5])"
   ]
  },
  {
   "cell_type": "code",
   "execution_count": 9,
   "id": "1589114b",
   "metadata": {},
   "outputs": [
    {
     "data": {
      "image/png": "[encoded data removed]",
      "text/plain": [
       "<Figure size 432x288 with 5 Axes>"
      ]
     },
     "metadata": {
      "needs_background": "light"
     },
     "output_type": "display_data"
    }
   ],
   "source": [
    "x = np.random.randn(100, 100)\n",
    "outputs = model_1.predict(x)\n",
    "for i, layer_output in enumerate(outputs):\n",
    "    plt.subplot(1, 5, i+1)\n",
    "    plt.title(str(i+1) + \"-layer\")\n",
    "    if i !=0: plt.yticks([],[])\n",
    "    plt.hist(layer_output.flatten(), 30, range=[0,1])\n",
    "plt.show()"
   ]
  },
  {
   "cell_type": "code",
   "execution_count": 10,
   "id": "3db17d3f",
   "metadata": {},
   "outputs": [],
   "source": [
    "inputs = keras.Input(shape=(100,))\n",
    "x1 = layers.Dense(100, 'sigmoid', False, initializers.RandomNormal(0, 0.01))(inputs)\n",
    "x2 = layers.Dense(100, 'sigmoid', False, initializers.RandomNormal(0, 0.01))(x1)\n",
    "x3 = layers.Dense(100, 'sigmoid', False, initializers.RandomNormal(0, 0.01))(x2)\n",
    "x4 = layers.Dense(100, 'sigmoid', False, initializers.RandomNormal(0, 0.01))(x3)\n",
    "x5 = layers.Dense(100, 'sigmoid', False, initializers.RandomNormal(0, 0.01))(x4)\n",
    "model_2 = keras.Model(inputs, [x1,x2,x3,x4,x5])"
   ]
  },
  {
   "cell_type": "code",
   "execution_count": 11,
   "id": "f8ccc674",
   "metadata": {},
   "outputs": [
    {
     "data": {
      "image/png": "[encoded data removed]",
      "text/plain": [
       "<Figure size 432x288 with 5 Axes>"
      ]
     },
     "metadata": {
      "needs_background": "light"
     },
     "output_type": "display_data"
    }
   ],
   "source": [
    "x = np.random.randn(100, 100)\n",
    "outputs = model_2.predict(x)\n",
    "for i, layer_output in enumerate(outputs):\n",
    "    plt.subplot(1, 5, i+1)\n",
    "    plt.title(str(i+1) + \"-layer\")\n",
    "    if i !=0: plt.yticks([],[])\n",
    "    plt.hist(layer_output.flatten(), 30, range=[0,1])\n",
    "plt.show()"
   ]
  },
  {
   "cell_type": "code",
   "execution_count": 17,
   "id": "c65b2afb",
   "metadata": {},
   "outputs": [],
   "source": [
    "inputs = keras.Input(shape=(100,))\n",
    "x1 = layers.Dense(100, 'sigmoid', False, initializers.glorot_normal())(inputs)\n",
    "x2 = layers.Dense(100, 'sigmoid', False, initializers.glorot_normal())(x1)\n",
    "x3 = layers.Dense(100, 'sigmoid', False, initializers.glorot_normal())(x2)\n",
    "x4 = layers.Dense(100, 'sigmoid', False, initializers.glorot_normal())(x3)\n",
    "x5 = layers.Dense(100, 'sigmoid', False, initializers.glorot_normal())(x4)\n",
    "model_3 = keras.Model(inputs, [x1,x2,x3,x4,x5])"
   ]
  },
  {
   "cell_type": "code",
   "execution_count": 18,
   "id": "7f36c36b",
   "metadata": {},
   "outputs": [
    {
     "data": {
      "image/png": "[encoded data removed]",
      "text/plain": [
       "<Figure size 432x288 with 5 Axes>"
      ]
     },
     "metadata": {
      "needs_background": "light"
     },
     "output_type": "display_data"
    }
   ],
   "source": [
    "x = np.random.randn(100, 100)\n",
    "outputs = model_3.predict(x)\n",
    "for i, layer_output in enumerate(outputs):\n",
    "    plt.subplot(1, 5, i+1)\n",
    "    plt.title(str(i+1) + \"-layer\")\n",
    "    if i !=0: plt.yticks([],[])\n",
    "    plt.hist(layer_output.flatten(), 30, range=[0,1])\n",
    "plt.show()"
   ]
  },
  {
   "cell_type": "code",
   "execution_count": 22,
   "id": "95c0a418",
   "metadata": {},
   "outputs": [],
   "source": [
    "inputs = keras.Input(shape=(100,))\n",
    "x1 = layers.Dense(100, 'relu', False, initializers.glorot_normal())(inputs)\n",
    "x2 = layers.Dense(100, 'relu', False, initializers.glorot_normal())(x1)\n",
    "x3 = layers.Dense(100, 'relu', False, initializers.glorot_normal())(x2)\n",
    "x4 = layers.Dense(100, 'relu', False, initializers.glorot_normal())(x3)\n",
    "x5 = layers.Dense(100, 'relu', False, initializers.glorot_normal())(x4)\n",
    "model_4 = keras.Model(inputs, [x1,x2,x3,x4,x5])"
   ]
  },
  {
   "cell_type": "code",
   "execution_count": 23,
   "id": "0f2c93e0",
   "metadata": {},
   "outputs": [
    {
     "data": {
      "image/png": "[encoded data removed]",
      "text/plain": [
       "<Figure size 432x288 with 5 Axes>"
      ]
     },
     "metadata": {
      "needs_background": "light"
     },
     "output_type": "display_data"
    }
   ],
   "source": [
    "x = np.random.randn(100, 100)\n",
    "outputs = model_4.predict(x)\n",
    "for i, layer_output in enumerate(outputs):\n",
    "    plt.subplot(1, 5, i+1)\n",
    "    plt.title(str(i+1) + \"-layer\")\n",
    "    if i !=0: plt.yticks([],[])\n",
    "    plt.hist(layer_output.flatten(), 30, range=[0,1])\n",
    "plt.show()"
   ]
  },
  {
   "cell_type": "code",
   "execution_count": 25,
   "id": "bc5ad1e8",
   "metadata": {},
   "outputs": [],
   "source": [
    "inputs = keras.Input(shape=(100,))\n",
    "x1 = layers.Dense(100, 'relu', False, initializers.he_normal())(inputs)\n",
    "x2 = layers.Dense(100, 'relu', False, initializers.he_normal())(x1)\n",
    "x3 = layers.Dense(100, 'relu', False, initializers.he_normal())(x2)\n",
    "x4 = layers.Dense(100, 'relu', False, initializers.he_normal())(x3)\n",
    "x5 = layers.Dense(100, 'relu', False, initializers.he_normal())(x4)\n",
    "model_5 = keras.Model(inputs, [x1,x2,x3,x4,x5])"
   ]
  },
  {
   "cell_type": "code",
   "execution_count": 26,
   "id": "92104e1e",
   "metadata": {},
   "outputs": [
    {
     "data": {
      "image/png": "[encoded data removed]",
      "text/plain": [
       "<Figure size 432x288 with 5 Axes>"
      ]
     },
     "metadata": {
      "needs_background": "light"
     },
     "output_type": "display_data"
    }
   ],
   "source": [
    "x = np.random.randn(100, 100)\n",
    "outputs = model_5.predict(x)\n",
    "for i, layer_output in enumerate(outputs):\n",
    "    plt.subplot(1, 5, i+1)\n",
    "    plt.title(str(i+1) + \"-layer\")\n",
    "    if i !=0: plt.yticks([],[])\n",
    "    plt.hist(layer_output.flatten(), 30, range=[0,1])\n",
    "plt.show()"
   ]
  },
  {
   "cell_type": "markdown",
   "id": "d893f81a",
   "metadata": {},
   "source": [
    "Normal distribution with std=0.01 is better than std=1\n",
    "\n",
    "Using Sigmoid or Tanh as activation function: use Glorot/ Xavier weight initializer\n",
    "Using ReLU as activation function: use He weight initializer\n",
    "ReLU as activation better than Sigmoid or Tanh"
   ]
  }
 ],
 "metadata": {
  "kernelspec": {
   "display_name": "tf2",
   "language": "python",
   "name": "tf2"
  },
  "language_info": {
   "codemirror_mode": {
    "name": "ipython",
    "version": 3
   },
   "file_extension": ".py",
   "mimetype": "text/x-python",
   "name": "python",
   "nbconvert_exporter": "python",
   "pygments_lexer": "ipython3",
   "version": "3.6.8"
  }
 },
 "nbformat": 4,
 "nbformat_minor": 5
}
