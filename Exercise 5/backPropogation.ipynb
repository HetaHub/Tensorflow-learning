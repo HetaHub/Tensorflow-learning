{
 "cells": [
  {
   "cell_type": "code",
   "execution_count": 1,
   "id": "2fdc13ad",
   "metadata": {},
   "outputs": [],
   "source": [
    "import tensorflow as tf"
   ]
  },
  {
   "cell_type": "code",
   "execution_count": 2,
   "id": "cf1f0a9c",
   "metadata": {},
   "outputs": [],
   "source": [
    "x = 0.4"
   ]
  },
  {
   "cell_type": "code",
   "execution_count": 3,
   "id": "2349971b",
   "metadata": {},
   "outputs": [],
   "source": [
    "w1, w2 = tf.Variable(1.0), tf.Variable(1.0)"
   ]
  },
  {
   "cell_type": "code",
   "execution_count": 4,
   "id": "492d8933",
   "metadata": {},
   "outputs": [],
   "source": [
    "y = 1"
   ]
  },
  {
   "cell_type": "code",
   "execution_count": 6,
   "id": "ac7dbf75",
   "metadata": {},
   "outputs": [],
   "source": [
    "with tf.GradientTape() as tape:\n",
    "    h1 = x * w1\n",
    "    h2 = tf.sigmoid(h1)\n",
    "    h3 = h2* w2\n",
    "    y_hat = tf.sigmoid(h3)\n",
    "    loss = (y - y_hat)**2"
   ]
  },
  {
   "cell_type": "code",
   "execution_count": 7,
   "id": "ad505020",
   "metadata": {},
   "outputs": [
    {
     "name": "stdout",
     "output_type": "stream",
     "text": [
      "tf.Tensor(-0.015601176, shape=(), dtype=float32)\n"
     ]
    }
   ],
   "source": [
    "gradients = tape.gradient(loss, w1)\n",
    "print(gradients)"
   ]
  },
  {
   "cell_type": "code",
   "execution_count": null,
   "id": "e36f6308",
   "metadata": {},
   "outputs": [],
   "source": []
  }
 ],
 "metadata": {
  "kernelspec": {
   "display_name": "tf2",
   "language": "python",
   "name": "tf2"
  },
  "language_info": {
   "codemirror_mode": {
    "name": "ipython",
    "version": 3
   },
   "file_extension": ".py",
   "mimetype": "text/x-python",
   "name": "python",
   "nbconvert_exporter": "python",
   "pygments_lexer": "ipython3",
   "version": "3.6.8"
  }
 },
 "nbformat": 4,
 "nbformat_minor": 5
}
