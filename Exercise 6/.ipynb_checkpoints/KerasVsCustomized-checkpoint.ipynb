{
 "cells": [
  {
   "cell_type": "code",
   "execution_count": 1,
   "id": "a65e91f9",
   "metadata": {},
   "outputs": [],
   "source": [
    "import tensorflow as tf"
   ]
  },
  {
   "cell_type": "markdown",
   "id": "613c3512",
   "metadata": {},
   "source": [
    "Layers:"
   ]
  },
  {
   "cell_type": "code",
   "execution_count": 2,
   "id": "7749b6f9",
   "metadata": {},
   "outputs": [],
   "source": [
    "class CustomLayer(tf.keras.layers.Layer):\n",
    "    def __init__(self, **kwargs):\n",
    "        super(CustomLayer, self).__init__( **kwargs)\n",
    "        \"\"\"\n",
    "        設定參數的地方\n",
    "        \"\"\"\n",
    "        \n",
    "    def build(self, input_shape):\n",
    "        \"\"\"\n",
    "        建立權重的地方(透過add_weight 方法)\n",
    "        參數:\n",
    "            input_shape: 輸入大小\n",
    "        \"\"\"\n",
    "        \n",
    "    def call(self, inputs):\n",
    "        \"\"\"\n",
    "        定義網路前向傳遞(運算)的地方。\n",
    "        參數:\n",
    "            inputs: 輸入網路的資料\n",
    "        \"\"\"\n",
    "    def get_config(self):\n",
    "        \"\"\"\n",
    "        (選擇)如果你要支援序列化，要在這裡定義，它會傳回層的構建參數\n",
    "        \"\"\""
   ]
  },
  {
   "cell_type": "markdown",
   "id": "04ef7f6d",
   "metadata": {},
   "source": [
    "Loss:"
   ]
  },
  {
   "cell_type": "code",
   "execution_count": 3,
   "id": "7b2e91ef",
   "metadata": {},
   "outputs": [],
   "source": [
    "def custom_loss(y_true, y_pred):\n",
    "    \"\"\"\n",
    "    定義loss 計算在這個地方\n",
    "    參數:\n",
    "        y_true(真實值): 傳入這筆資料的答案\n",
    "        y_pred(預測值): 傳入這筆資料網路預測的結果\n",
    "    \"\"\"\n",
    "    return loss"
   ]
  },
  {
   "cell_type": "markdown",
   "id": "f67d16fe",
   "metadata": {},
   "source": [
    "Metrics:"
   ]
  },
  {
   "cell_type": "code",
   "execution_count": 5,
   "id": "d1a8d21f",
   "metadata": {},
   "outputs": [],
   "source": [
    "class CustomMetrics(tf.keras.metrics.Metric):\n",
    "    def __init__(self, name='custom_metrics', **kwargs):\n",
    "        super(CustomMetrics, self).__init__(name=name, **kwargs)\n",
    "        \"\"\"\n",
    "        所有指標函數使用到的狀態變數都需在這裡建立\n",
    "        參數:\n",
    "            name: 指標函數的名稱\n",
    "        \"\"\"\n",
    "        \n",
    "    def update_state(self, y_true, y_pred, sample_weight=None):\n",
    "        \"\"\"\n",
    "        使用y_true(真實值) 與 y_pred(預測值) 來計算更新狀態函數\n",
    "        參數:\n",
    "            y_true(真實值): 傳入這筆資料的答案\n",
    "            y_pred(預測值): 傳入這筆資料網路預測的結果\n",
    "            sample_weight: 對樣本的權重，通常用在序列模型\n",
    "        \"\"\"\n",
    "    def result(self):\n",
    "        \"\"\"\n",
    "        使用狀態變數計算最終的結果\n",
    "        \"\"\"\n",
    "    def reset_states(self):\n",
    "        \"\"\"\n",
    "        重新初始化指標函數(狀態函數)\n",
    "        \"\"\""
   ]
  },
  {
   "cell_type": "markdown",
   "id": "05ed765d",
   "metadata": {},
   "source": [
    "Callbacks"
   ]
  },
  {
   "cell_type": "markdown",
   "id": "310e2ca3",
   "metadata": {},
   "source": [
    "class CustomCallbacks(tf.keras.callbacks.Callback):\n",
    "    def on_epoch_(begin|end)(self, epoch, logs=None):\n",
    "        \"\"\"\n",
    "        每一個epoch 開始或結束，執行這段程式\n",
    "        參數:\n",
    "            epoch: 目前的epoch\n",
    "            logs: 傳入dict 格式的記錄資訊，例如: loss, val_loss 等\n",
    "        \"\"\"\n",
    "    def on_(train|test|predict)_begin(self, logs=None):\n",
    "        \"\"\"\n",
    "        fit, evaluate, predict 任務開始時，執行這段程式\n",
    "        參數:\n",
    "            logs: 傳入dict 格式的記錄資訊，例如: loss, val_loss 等\n",
    "        \"\"\"\n",
    "    def on_(train|test|predict)_end(self, logs=None):\n",
    "        \"\"\"\n",
    "        fit, evaluate, predict 任務結束時，執行這段程式\n",
    "        參數:\n",
    "            logs: 傳入dict 格式的記錄資訊，例如: loss, val_loss 等\n",
    "        \"\"\"\n",
    "    def on_(train|test|predict)_batch_begin(self, batch, logs=None):\n",
    "        \"\"\"\n",
    "        fit, evaluate, predict 任務的每一個batch 開始前執行這段程式\n",
    "        參數:\n",
    "            batch: 目前的batch\n",
    "            logs: 傳入dict 格式的記錄資訊，例如: loss, val_loss 等\n",
    "        \"\"\"\n",
    "    def on_(train|test|predict)_batch_end(self, batch, logs=None):\n",
    "        \"\"\"\n",
    "        fit, evaluate, predict 任務的每一個batch 結束後執行這段程式\n",
    "        參數:\n",
    "            batch: 目前的batch\n",
    "            logs: 傳入dict 格式的記錄資訊，例如: loss, val_loss 等\n",
    "        \"\"\""
   ]
  },
  {
   "cell_type": "markdown",
   "id": "9ab57e34",
   "metadata": {},
   "source": [
    "Making Conv layer with keras API vs customize API"
   ]
  },
  {
   "cell_type": "code",
   "execution_count": 7,
   "id": "702baacc",
   "metadata": {},
   "outputs": [
    {
     "data": {
      "text/plain": [
       "<tensorflow.python.keras.layers.convolutional.Conv2D at 0x21dc9d1fa90>"
      ]
     },
     "execution_count": 7,
     "metadata": {},
     "output_type": "execute_result"
    }
   ],
   "source": [
    "tf.keras.layers.Conv2D(64, 3, activation='relu',\n",
    "                       kernel_initializer='glorot_uniform')"
   ]
  },
  {
   "cell_type": "code",
   "execution_count": 8,
   "id": "7a4ca295",
   "metadata": {},
   "outputs": [],
   "source": [
    "class CustomConv2D(tf.keras.layers.Layer):\n",
    "    def __init__(self, filters, kernel_size, strides=(1, 1), padding=\"VALID\",\n",
    "                 **kwargs):\n",
    "        super(CustomConv2D, self).__init__(**kwargs)\n",
    "        self.filters = filters\n",
    "        self.kernel_size = kernel_size\n",
    "        self.strides = (1, *strides, 1)\n",
    "        self.padding = padding\n",
    "        \n",
    "    def build(self, input_shape):\n",
    "        kernel_h , kernel_w = self.kernel_size\n",
    "        input_dim = input_shape[-1]\n",
    "        #建立卷積層的權重值(weights)\n",
    "        self.w = self.add_weight(name='kernel',\n",
    "                                 shape=(kernel_h, kernel_w, input_dim, self.filters),\n",
    "                                 initializer='glorot_uniform', #設定初始化方法\n",
    "                                 trainable=True) #設定這個權重是否能訓練(更動)\n",
    "        #建立卷積層的偏差值(bias)\n",
    "        self.b = self.add_weight(name='bias',\n",
    "                                 shape=(self.filters,),\n",
    "                                 initializer='zeros', #設定初始化方法\n",
    "                                 trainable=True) #設定這個權重是否能訓練(更動)\n",
    "    \n",
    "    def call(self, inputs):\n",
    "        #卷積運算\n",
    "        x = tf.nn.conv2d(inputs, self.w, self.strides, padding=self.padding)\n",
    "        x = tf.nn.bias_add(x, self.b) #加上偏差值\n",
    "        x = tf.nn.relu(x)\n",
    "        return x"
   ]
  },
  {
   "cell_type": "markdown",
   "id": "8799b5db",
   "metadata": {},
   "source": [
    "Loss Categorical Cross Entropy"
   ]
  },
  {
   "cell_type": "code",
   "execution_count": 9,
   "id": "0b845c3b",
   "metadata": {},
   "outputs": [
    {
     "data": {
      "text/plain": [
       "<tensorflow.python.keras.losses.CategoricalCrossentropy at 0x21dc9d1f710>"
      ]
     },
     "execution_count": 9,
     "metadata": {},
     "output_type": "execute_result"
    }
   ],
   "source": [
    "tf.keras.losses.CategoricalCrossentropy()"
   ]
  },
  {
   "cell_type": "code",
   "execution_count": 10,
   "id": "f1bc86dd",
   "metadata": {},
   "outputs": [],
   "source": [
    "def custom_categorical_crossentropy(y_true, y_pred):\n",
    "    x = tf.reduce_mean(-tf.reduce_sum(y_true * tf.log(y_pred),\n",
    "                        reduction_indices=[1]))\n",
    "    return x"
   ]
  },
  {
   "cell_type": "markdown",
   "id": "b95257f5",
   "metadata": {},
   "source": [
    "實際不使用上面的function, 下面的經過優化，會更快和穩定"
   ]
  },
  {
   "cell_type": "code",
   "execution_count": 12,
   "id": "67603916",
   "metadata": {},
   "outputs": [],
   "source": [
    "def custom_categorical_crossentropy(y_true, y_pred):\n",
    "    x = tf.nn.softmax_cross_entropy_with_logits(labels=y_true, logits=y_pred)\n",
    "    return x"
   ]
  },
  {
   "cell_type": "markdown",
   "id": "db69570f",
   "metadata": {},
   "source": [
    "Metrics Categorical_accuracy=Correct_numbers/Total_numbers"
   ]
  },
  {
   "cell_type": "code",
   "execution_count": 13,
   "id": "db4b54fe",
   "metadata": {},
   "outputs": [
    {
     "data": {
      "text/plain": [
       "<tensorflow.python.keras.metrics.CategoricalAccuracy at 0x21dc9d3dda0>"
      ]
     },
     "execution_count": 13,
     "metadata": {},
     "output_type": "execute_result"
    }
   ],
   "source": [
    "tf.keras.metrics.CategoricalAccuracy()"
   ]
  },
  {
   "cell_type": "code",
   "execution_count": 14,
   "id": "228382d1",
   "metadata": {},
   "outputs": [],
   "source": [
    "class CustomCategoricalAccuracy(tf.keras.metrics.Metric):\n",
    "    def __init__(self, name='custom_categorical_accuracy', **kwargs):\n",
    "        super(CustomCategoricalAccuracy, self).__init__(name=name, **kwargs)\n",
    "        self.correct = self.add_weight('correct_numbers', initializer='zeros')\n",
    "        self.total = self.add_weight('total_numbers', initializer='zeros')\n",
    "        \n",
    "    def update_state(self, y_true, y_pred, sample_weight=None):\n",
    "        y_true = tf.argmax(y_true,axis=-1)\n",
    "        y_pred = tf.argmax(y_pred,axis=-1)\n",
    "        values = tf.equal(y_true, y_pred)\n",
    "        values = tf.cast(values, tf.float32)\n",
    "        values_sum = tf.reduce_sum(values)\n",
    "        num_values = tf.cast(tf.size(values), tf.float32)\n",
    "        self.correct.assign_add(values_sum)\n",
    "        self.total.assign_add(num_values)\n",
    "        \n",
    "    def result(self):\n",
    "        return tf.math.divide_no_nan(self.correct, self.total)\n",
    "    \n",
    "    def reset_states(self):\n",
    "        self.correct.assign(0.)\n",
    "        self.total.assign(0.)"
   ]
  },
  {
   "cell_type": "markdown",
   "id": "c2fa022b",
   "metadata": {},
   "source": [
    "Callback"
   ]
  },
  {
   "cell_type": "code",
   "execution_count": 15,
   "id": "f0006a6b",
   "metadata": {},
   "outputs": [
    {
     "data": {
      "text/plain": [
       "<tensorflow.python.keras.callbacks.ModelCheckpoint at 0x21dc9d7f4a8>"
      ]
     },
     "execution_count": 15,
     "metadata": {},
     "output_type": "execute_result"
    }
   ],
   "source": [
    "tf.keras.callbacks.ModelCheckpoint('logs/models/save.h5')"
   ]
  },
  {
   "cell_type": "code",
   "execution_count": 16,
   "id": "d3e19ec2",
   "metadata": {},
   "outputs": [],
   "source": [
    "class SaveModel(tf.keras.callbacks.Callback):\n",
    "    def __init__(self, weights_file, monitor='loss', mode='min',\n",
    "                 save_weights_only=False):\n",
    "        super(SaveModel, self).__init__()\n",
    "        #設定模型權重儲存路徑\n",
    "        self.weights_file = weights_file\n",
    "        #設定要監察的數值\n",
    "        self.monitor = monitor\n",
    "        #監察模式: loss 用 min, Accuracy 用 max\n",
    "        self.mode = mode\n",
    "        #只儲存網路權重或儲存整個網路模型(包括 layer, compile等)\n",
    "        self.save_weights_only = save_weights_only\n",
    "        if mode == 'min':\n",
    "            #設定best 為無限大\n",
    "            self.best = np.Inf\n",
    "        else:\n",
    "            #設定best 為負無限大\n",
    "            self.best = -np.Inf\n",
    "        \n",
    "    #儲存網路模型函數\n",
    "    def save_model(self):\n",
    "        if self.save_weights_only:\n",
    "            #只儲存網路權重\n",
    "            self.model.save_weights(self.weights_file)\n",
    "        else:\n",
    "            #儲存整個網路模型(包括 layer, compile等)\n",
    "            self.model.save(self.weights_file)\n",
    "    \n",
    "    def on_epoch_end(self, epoch, logs=None):\n",
    "        #從logs中讀取監測值\n",
    "        monitor_value = logs.get(self.monitor)\n",
    "        #如果監察值有降低或升高(取決於你的mode設定)，則儲存網路模型\n",
    "        if self.mode == 'min' and monitor_value < self.best:\n",
    "            self.save_model()\n",
    "            self.best = monitor_value\n",
    "        elif self.mode == 'max' and monitor_value > self.best:\n",
    "            self.save_model()\n",
    "            self.best = monitor_value"
   ]
  }
 ],
 "metadata": {
  "kernelspec": {
   "display_name": "tf2",
   "language": "python",
   "name": "tf2"
  },
  "language_info": {
   "codemirror_mode": {
    "name": "ipython",
    "version": 3
   },
   "file_extension": ".py",
   "mimetype": "text/x-python",
   "name": "python",
   "nbconvert_exporter": "python",
   "pygments_lexer": "ipython3",
   "version": "3.6.8"
  }
 },
 "nbformat": 4,
 "nbformat_minor": 5
}
